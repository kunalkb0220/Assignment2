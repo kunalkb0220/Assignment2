{
 "cells": [
  {
   "cell_type": "code",
   "execution_count": null,
   "id": "94498f8f",
   "metadata": {},
   "outputs": [],
   "source": [
    "1.What are the two values of the Boolean data type? How do you write them?\n",
    "\n",
    "A variable of the primitive data type boolean can have two values: true and false (Boolean literals). or off. \n",
    "Boolean expressions use relational and logical operators. The result of a Boolean expression is either true or false.\n",
    "\n",
    "boolean issmaller = True\n",
    "boolean isbigger = False"
   ]
  },
  {
   "cell_type": "code",
   "execution_count": null,
   "id": "9c9b8b17",
   "metadata": {},
   "outputs": [],
   "source": [
    "2. What are the three different types of Boolean operators?\n",
    "\n",
    "The three basic boolean operators are: AND, OR, and NOT.\n",
    "    "
   ]
  },
  {
   "cell_type": "code",
   "execution_count": null,
   "id": "eadb7576",
   "metadata": {},
   "outputs": [],
   "source": [
    "3. Make a list of each Boolean operator's truth tables \n",
    "(i.e. every possible combination of Boolean values for the operator and what it evaluate ).\n",
    "\n",
    "a\t     b\t    a && b\ta || b \t!a\n",
    "True\tTrue\tTrue\tTrue\tFalse\n",
    "True\tFalse\tFalse\tTrue\tFalse\n",
    "False\tTrue\tFalse\tTrue\tTrue\n",
    "False\tFalse\tFalse\tFalse\tTrue\n",
    "\n"
   ]
  },
  {
   "cell_type": "code",
   "execution_count": null,
   "id": "0e870b04",
   "metadata": {},
   "outputs": [],
   "source": [
    "4. What are the values of the following expressions?\n",
    "\n",
    "(5 > 4) and (3 == 5)  Ans. False\n",
    "not (5 > 4)           Ans. False  \n",
    "(5 > 4) or (3 == 5)   Ans. True\n",
    "not ((5 > 4) or (3 == 5)) Ans. False\n",
    "(True and True) and (True == False) Ans. False\n",
    "(not False) or (not True)  Ans. True\n"
   ]
  },
  {
   "cell_type": "code",
   "execution_count": null,
   "id": "141ecade",
   "metadata": {},
   "outputs": [],
   "source": [
    "5. What are the six comparison operators?\n",
    "\n",
    "Less than ( < )\n",
    "Less than or equal to ( <= )\n",
    "Greater than ( > )\n",
    "Greater than or equal to ( >= )\n",
    "Equal to ( == )\n",
    "Not equal to ( != )\n"
   ]
  },
  {
   "cell_type": "code",
   "execution_count": null,
   "id": "f45b6fa1",
   "metadata": {},
   "outputs": [],
   "source": [
    "6. How do you tell the difference between the equal to and assignment operators?\n",
    "Describe a condition and when you would use one.\n",
    "\n",
    "The “=” is an assignment operator is used to assign the value on the right to the variable on the left.\n",
    "a = 10\n",
    "b = \"Gaurav\"\n",
    "\n",
    "The ‘==’ operator checks whether the two given operands are equal or not. If so, it returns true. Otherwise it returns false.\n",
    "(3 == 5)  This will give False value\n",
    "(7 == 7)  This will give True value\n"
   ]
  },
  {
   "cell_type": "code",
   "execution_count": null,
   "id": "e14ef267",
   "metadata": {},
   "outputs": [],
   "source": [
    "7. Identify the three blocks in this code:\n",
    "spam = 0\n",
    "if spam == 10:\n",
    "    print('eggs')\n",
    "if spam > 5:\n",
    "    print('bacon')\n",
    "else:\n",
    "    print('ham')\n",
    "    print('spam')\n",
    "    print('spam')\n",
    "\n",
    "The three blocks are everything inside the if statement and the lines print('bacon') and print('ham').\n",
    "The above code will print 'ham' 'spam' 'spam'    \n",
    "        "
   ]
  },
  {
   "cell_type": "code",
   "execution_count": null,
   "id": "3d15a6f2",
   "metadata": {},
   "outputs": [],
   "source": [
    "8. Write code that prints Hello if 1 is stored in spam, prints Howdy if 2 is stored in spam, \n",
    "and prints Greetings! if anything else is stored in spam.\n",
    "\n",
    "spam = int(input())\n",
    "\n",
    "if spam == 1:\n",
    "    print('Hello')\n",
    "elif spam == 2:\n",
    "    print('Howdy')\n",
    "else:\n",
    "    print('Greetings!')\n"
   ]
  },
  {
   "cell_type": "code",
   "execution_count": null,
   "id": "4fcaa360",
   "metadata": {},
   "outputs": [],
   "source": [
    "9.If your programme is stuck in an endless loop, what keys you’ll press?\n",
    "\n",
    "An infinite loop is a loop that runs indefinitely and it only stops with external intervention \n",
    "or when a break statement is found. You can stop an infinite loop with CTRL + C .\n"
   ]
  },
  {
   "cell_type": "code",
   "execution_count": null,
   "id": "fd1ff1c8",
   "metadata": {},
   "outputs": [],
   "source": [
    "10. How can you tell the difference between break and continue?\n",
    "\n",
    "The main difference between both the statements is that when break keyword comes, it terminates the execution of the current\n",
    "loop and passes the control over the next loop or main body, whereas when continue keyword is encountered, \n",
    "it skips the current iteration and executes the very next iteration in the loop.\n"
   ]
  },
  {
   "cell_type": "code",
   "execution_count": null,
   "id": "518017bc",
   "metadata": {},
   "outputs": [],
   "source": [
    "11. In a for loop, what is the difference between range(10), range(0, 10), and range(0, 10, 1)?\n",
    "\n",
    "No, there will be no difference in the above for loops all three of them will print the same output\n",
    "(i.e 0 1 2 3 4 5 6 7 8 9)"
   ]
  },
  {
   "cell_type": "code",
   "execution_count": null,
   "id": "ab8ffb4c",
   "metadata": {},
   "outputs": [],
   "source": [
    "12. Write a short program that prints the numbers 1 to 10 using a for loop. \n",
    "Then write an equivalent program that prints the numbers 1 to 10 using a while loop.\n",
    "\n",
    "for i in range(1, 11):\n",
    "    print(i)\n",
    "\n",
    "i = 1\n",
    "while(i<=10):\n",
    "    print(i)\n",
    "    i += 1\n"
   ]
  },
  {
   "cell_type": "code",
   "execution_count": null,
   "id": "c62f4403",
   "metadata": {},
   "outputs": [],
   "source": [
    "13. If you had a function named bacon() inside a module named spam, how would you call it after importing spam?\n",
    "\n",
    "This function can be called with spam. bacon()."
   ]
  }
 ],
 "metadata": {
  "kernelspec": {
   "display_name": "Python 3",
   "language": "python",
   "name": "python3"
  },
  "language_info": {
   "codemirror_mode": {
    "name": "ipython",
    "version": 3
   },
   "file_extension": ".py",
   "mimetype": "text/x-python",
   "name": "python",
   "nbconvert_exporter": "python",
   "pygments_lexer": "ipython3",
   "version": "3.8.8"
  }
 },
 "nbformat": 4,
 "nbformat_minor": 5
}
